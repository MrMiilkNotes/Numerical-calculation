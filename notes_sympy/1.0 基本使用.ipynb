{
 "cells": [
  {
   "cell_type": "code",
   "execution_count": 1,
   "metadata": {},
   "outputs": [],
   "source": [
    "from sympy import *"
   ]
  },
  {
   "cell_type": "markdown",
   "metadata": {},
   "source": [
    "> `sympy`是python下的一个符号运算库，可能效率上比不过matlab，不过日常的使用应该还是可以的，主要是比较喜欢python的风格，而且数值计算在拟合一块中遇到了正交多项式生成的问题，而`numpy`和`scipy`还不够熟悉，就稍微看了下`sympy`"
   ]
  },
  {
   "cell_type": "markdown",
   "metadata": {},
   "source": [
    "> 来自[文档](http://www.asmeurer.com/sympy_doc/dev-py3k/modules/index.html)，在用到相应功能时会进行相应补充"
   ]
  },
  {
   "cell_type": "code",
   "execution_count": 14,
   "metadata": {},
   "outputs": [],
   "source": [
    "# 官方的格式化打印\n",
    "from sympy import init_printing\n",
    "init_printing(use_unicode=True, wrap_line=False, no_global=True)"
   ]
  },
  {
   "cell_type": "markdown",
   "metadata": {},
   "source": [
    "## 变量"
   ]
  },
  {
   "cell_type": "markdown",
   "metadata": {},
   "source": [
    "> `pi`&`E`是模块中的符号，`oo`则是无穷"
   ]
  },
  {
   "cell_type": "code",
   "execution_count": 5,
   "metadata": {},
   "outputs": [
    {
     "name": "stdout",
     "output_type": "stream",
     "text": [
      "pi E\n",
      "3.14159265358979 2.71828182845905\n",
      "- - - - - - - - - - - - - - - - - - - - \n",
      "oo\n",
      "oo + 1:  oo\n"
     ]
    }
   ],
   "source": [
    "# 两个常量\n",
    "print(pi, E)\n",
    "print(pi.evalf(), E.evalf())\n",
    "print('- ' * 20)\n",
    "# 无穷\n",
    "print(oo)\n",
    "print(\"oo + 1: \", oo + 1)"
   ]
  },
  {
   "cell_type": "markdown",
   "metadata": {},
   "source": [
    "> 变量--`sympy`中需要明确地声明符号变量"
   ]
  },
  {
   "cell_type": "code",
   "execution_count": 7,
   "metadata": {},
   "outputs": [
    {
     "data": {
      "text/plain": [
       "(g0, g1, g2)"
      ]
     },
     "execution_count": 7,
     "metadata": {},
     "output_type": "execute_result"
    }
   ],
   "source": [
    "# 自己声明\n",
    "z1 = Symbol('z1')\n",
    "# or 别的函数\n",
    "z2, z3 = symbols('z2, z3')\n",
    "var('g:3') # 范围表示的生成"
   ]
  },
  {
   "cell_type": "code",
   "execution_count": 15,
   "metadata": {},
   "outputs": [],
   "source": [
    "# 预定义的\n",
    "from sympy.abc import x, y, z, theta"
   ]
  },
  {
   "cell_type": "markdown",
   "metadata": {},
   "source": [
    "## 基本运算"
   ]
  },
  {
   "cell_type": "markdown",
   "metadata": {},
   "source": [
    "### 多项式"
   ]
  },
  {
   "cell_type": "code",
   "execution_count": 12,
   "metadata": {},
   "outputs": [
    {
     "name": "stdout",
     "output_type": "stream",
     "text": [
      "2*x - y\n"
     ]
    }
   ],
   "source": [
    "y = Symbol('y')\n",
    "print(x + x - y) # 基本的简化"
   ]
  },
  {
   "cell_type": "code",
   "execution_count": 13,
   "metadata": {},
   "outputs": [
    {
     "data": {
      "text/plain": [
       "x**2 + 2*x*y + y**2"
      ]
     },
     "execution_count": 13,
     "metadata": {},
     "output_type": "execute_result"
    }
   ],
   "source": [
    "((x + y)**2).expand() # 多项式展开"
   ]
  },
  {
   "cell_type": "code",
   "execution_count": 16,
   "metadata": {},
   "outputs": [
    {
     "name": "stdout",
     "output_type": "stream",
     "text": [
      "1/((x + 1)*(x + 2))\n",
      "-1/(x + 2) + 1/(x + 1)\n"
     ]
    }
   ],
   "source": [
    "from sympy import apart\n",
    "a = 1/( (x + 2)*(x + 1) )\n",
    "print(a)\n",
    "print(apart(a)) # 分数分解"
   ]
  },
  {
   "cell_type": "code",
   "execution_count": 17,
   "metadata": {},
   "outputs": [
    {
     "data": {
      "image/png": "[encoded data removed]",
      "text/latex": [
       "$$\\frac{x y + x z + y z}{x y z}$$"
      ],
      "text/plain": [
       "x⋅y + x⋅z + y⋅z\n",
       "───────────────\n",
       "     x⋅y⋅z     "
      ]
     },
     "execution_count": 17,
     "metadata": {},
     "output_type": "execute_result"
    }
   ],
   "source": [
    "from sympy import together\n",
    "together(1/x + 1/y + 1/z) # 分数组合"
   ]
  },
  {
   "cell_type": "markdown",
   "metadata": {},
   "source": [
    "### 矩阵"
   ]
  },
  {
   "cell_type": "code",
   "execution_count": 30,
   "metadata": {},
   "outputs": [
    {
     "data": {
      "text/latex": [
       "$$\\left[\\begin{matrix}1 & 0\\\\0 & 1\\end{matrix}\\right]$$"
      ],
      "text/plain": [
       "⎡1  0⎤\n",
       "⎢    ⎥\n",
       "⎣0  1⎦"
      ]
     },
     "execution_count": 30,
     "metadata": {},
     "output_type": "execute_result"
    }
   ],
   "source": [
    "from sympy import Matrix, Symbol\n",
    "Matrix([[1, 0], [0, 1]])"
   ]
  },
  {
   "cell_type": "code",
   "execution_count": 37,
   "metadata": {},
   "outputs": [
    {
     "name": "stdout",
     "output_type": "stream",
     "text": [
      "Matrix([[x*y + 1, 2*x], [2*y, x*y + 1]])\n",
      "Matrix([[1/(-x*y + 1), -x/(-x*y + 1)], [-y/(-x*y + 1), 1/(-x*y + 1)]])\n"
     ]
    }
   ],
   "source": [
    "A = Matrix([[1, x], [y, 1]])\n",
    "print(A**2)\n",
    "print(A**(-1))"
   ]
  },
  {
   "cell_type": "code",
   "execution_count": 39,
   "metadata": {},
   "outputs": [
    {
     "data": {
      "text/latex": [
       "$$\\left[\\begin{matrix}\\frac{1}{- x y + 1} & - \\frac{x}{- x y + 1}\\\\- \\frac{y}{- x y + 1} & \\frac{1}{- x y + 1}\\end{matrix}\\right]$$"
      ],
      "text/plain": [
       "⎡   1        -x    ⎤\n",
       "⎢────────  ────────⎥\n",
       "⎢-x⋅y + 1  -x⋅y + 1⎥\n",
       "⎢                  ⎥\n",
       "⎢  -y         1    ⎥\n",
       "⎢────────  ────────⎥\n",
       "⎣-x⋅y + 1  -x⋅y + 1⎦"
      ]
     },
     "execution_count": 39,
     "metadata": {},
     "output_type": "execute_result"
    }
   ],
   "source": [
    "# pprint并不会变好看，但是如下的输出会\n",
    "A**(-1)"
   ]
  },
  {
   "cell_type": "code",
   "execution_count": 40,
   "metadata": {},
   "outputs": [],
   "source": [
    "from sympy.matrices import Matrix, eye, zeros, ones, diag, GramSchmidt"
   ]
  },
  {
   "cell_type": "code",
   "execution_count": 45,
   "metadata": {},
   "outputs": [
    {
     "data": {
      "text/latex": [
       "$$\\left ( \\left[\\begin{matrix}1 & 2 & 3\\end{matrix}\\right], \\quad \\left[\\begin{matrix}1\\\\2\\\\3\\end{matrix}\\right]\\right )$$"
      ],
      "text/plain": [
       "⎛           ⎡1⎤⎞\n",
       "⎜           ⎢ ⎥⎟\n",
       "⎜[1  2  3], ⎢2⎥⎟\n",
       "⎜           ⎢ ⎥⎟\n",
       "⎝           ⎣3⎦⎠"
      ]
     },
     "execution_count": 45,
     "metadata": {},
     "output_type": "execute_result"
    }
   ],
   "source": [
    "a = Matrix([ # 行矩阵\n",
    "    [1, 2, 3]\n",
    "])\n",
    "b = Matrix([1, 2, 3]) # 列矩阵\n",
    "a, b"
   ]
  },
  {
   "cell_type": "code",
   "execution_count": 46,
   "metadata": {},
   "outputs": [
    {
     "data": {
      "text/latex": [
       "$$\\left[\\begin{matrix}1 & 2 & 3\\\\4 & 5 & 6\\end{matrix}\\right]$$"
      ],
      "text/plain": [
       "⎡1  2  3⎤\n",
       "⎢       ⎥\n",
       "⎣4  5  6⎦"
      ]
     },
     "execution_count": 46,
     "metadata": {},
     "output_type": "execute_result"
    }
   ],
   "source": [
    "# 从列表创建\n",
    "Matrix(2, 3, [1, 2, 3, 4, 5, 6])"
   ]
  },
  {
   "cell_type": "code",
   "execution_count": 47,
   "metadata": {},
   "outputs": [
    {
     "data": {
      "text/latex": [
       "$$\\left[\\begin{matrix}1 & 0 & 0\\\\1 & 1 & 1\\\\1 & 2 & 4\\end{matrix}\\right]$$"
      ],
      "text/plain": [
       "⎡1  0  0⎤\n",
       "⎢       ⎥\n",
       "⎢1  1  1⎥\n",
       "⎢       ⎥\n",
       "⎣1  2  4⎦"
      ]
     },
     "execution_count": 47,
     "metadata": {},
     "output_type": "execute_result"
    }
   ],
   "source": [
    "# 从函数创建\n",
    "def f(i, j):\n",
    "    return i ** j\n",
    "Matrix(3, 3, f) # or lambda"
   ]
  },
  {
   "cell_type": "code",
   "execution_count": 48,
   "metadata": {},
   "outputs": [
    {
     "data": {
      "text/latex": [
       "$$\\left[\\begin{matrix}1 & 0 & 0 & 0\\\\0 & 1 & 0 & 0\\\\0 & 0 & 1 & 0\\\\0 & 0 & 0 & 1\\end{matrix}\\right]$$"
      ],
      "text/plain": [
       "⎡1  0  0  0⎤\n",
       "⎢          ⎥\n",
       "⎢0  1  0  0⎥\n",
       "⎢          ⎥\n",
       "⎢0  0  1  0⎥\n",
       "⎢          ⎥\n",
       "⎣0  0  0  1⎦"
      ]
     },
     "execution_count": 48,
     "metadata": {},
     "output_type": "execute_result"
    }
   ],
   "source": [
    "# eye, zeros, ones, diag 和它们该有的功能一样\n",
    "eye(4)"
   ]
  },
  {
   "cell_type": "code",
   "execution_count": 49,
   "metadata": {},
   "outputs": [
    {
     "data": {
      "text/latex": [
       "$$\\left[\\begin{matrix}1 & 0 & 0\\\\0 & 1 & 2\\\\0 & 3 & 4\\end{matrix}\\right]$$"
      ],
      "text/plain": [
       "⎡1  0  0⎤\n",
       "⎢       ⎥\n",
       "⎢0  1  2⎥\n",
       "⎢       ⎥\n",
       "⎣0  3  4⎦"
      ]
     },
     "execution_count": 49,
     "metadata": {},
     "output_type": "execute_result"
    }
   ],
   "source": [
    "# 可以组合分块矩阵\n",
    "diag(1, Matrix([[1, 2], [3, 4]]))"
   ]
  },
  {
   "cell_type": "code",
   "execution_count": 51,
   "metadata": {},
   "outputs": [
    {
     "name": "stdout",
     "output_type": "stream",
     "text": [
      "M[4]:  6\n",
      "M[1, 1]:  6\n",
      "M[:, 2] Matrix([[4], [7]])\n"
     ]
    }
   ],
   "source": [
    "M = Matrix(2, 3, [2, 3, 4, 5, 6, 7])\n",
    "print(\"M[4]: \", M[4]) # 注意和之前习惯的索引不一样\n",
    "print(\"M[1, 1]: \", M[1, 1])\n",
    "print(\"M[:, 2]\", M[:, 2]) # 片选"
   ]
  },
  {
   "cell_type": "code",
   "execution_count": 53,
   "metadata": {},
   "outputs": [
    {
     "name": "stdout",
     "output_type": "stream",
     "text": [
      "Matrix([[1, 1], [1, 1]]) Matrix([[1, 1], [1, 100]]) Matrix([[1, 1], [1, 1]])\n",
      "Matrix([[1, 1], [1, 200]]) Matrix([[1, 1], [1, 100]]) Matrix([[1, 1], [1, 200]])\n"
     ]
    }
   ],
   "source": [
    "M = Matrix(2, 2, [1, 1, 1, 1])\n",
    "M1 = M[:, :] # deep copy\n",
    "M2 = M       # 引用\n",
    "M1[1, 1] = 100\n",
    "print(M, M1, M2)\n",
    "M2[1, 1] = 200\n",
    "print(M, M1, M2)"
   ]
  },
  {
   "cell_type": "code",
   "execution_count": 55,
   "metadata": {},
   "outputs": [
    {
     "data": {
      "text/latex": [
       "$$\\left[\\begin{matrix}4 & 6\\\\7 & 9\\end{matrix}\\right]$$"
      ],
      "text/plain": [
       "⎡4  6⎤\n",
       "⎢    ⎥\n",
       "⎣7  9⎦"
      ]
     },
     "execution_count": 55,
     "metadata": {},
     "output_type": "execute_result"
    }
   ],
   "source": [
    "# 删除 行，列\n",
    "M = Matrix(([1,2,3],[4,5,6],[7,8,9]))\n",
    "M.row_del(0)\n",
    "M.col_del(1)\n",
    "M"
   ]
  },
  {
   "cell_type": "code",
   "execution_count": 56,
   "metadata": {},
   "outputs": [
    {
     "data": {
      "text/latex": [
       "$$\\left[\\begin{matrix}1 & 0 & 0 & 0 & 0 & 0\\\\0 & 1 & 0 & 0 & 0 & 0\\\\0 & 0 & 1 & 0 & 0 & 0\\end{matrix}\\right]$$"
      ],
      "text/plain": [
       "⎡1  0  0  0  0  0⎤\n",
       "⎢                ⎥\n",
       "⎢0  1  0  0  0  0⎥\n",
       "⎢                ⎥\n",
       "⎣0  0  1  0  0  0⎦"
      ]
     },
     "execution_count": 56,
     "metadata": {},
     "output_type": "execute_result"
    }
   ],
   "source": [
    "M1 = eye(3)\n",
    "M2 = zeros(3, 3)\n",
    "M1.row_join(M2) # 注意不会修改原来矩阵 还有一个 col_join"
   ]
  },
  {
   "cell_type": "code",
   "execution_count": null,
   "metadata": {},
   "outputs": [],
   "source": []
  },
  {
   "cell_type": "code",
   "execution_count": null,
   "metadata": {},
   "outputs": [],
   "source": []
  },
  {
   "cell_type": "markdown",
   "metadata": {},
   "source": [
    "## 实用工具"
   ]
  },
  {
   "cell_type": "markdown",
   "metadata": {},
   "source": [
    "### 化简"
   ]
  },
  {
   "cell_type": "code",
   "execution_count": 26,
   "metadata": {},
   "outputs": [
    {
     "data": {
      "image/png": "[encoded data removed]",
      "text/latex": [
       "$$x^{3} + 3 x^{2} + 8 x y + 6 y^{2}$$"
      ],
      "text/plain": [
       " 3      2              2\n",
       "x  + 3⋅x  + 8⋅x⋅y + 6⋅y "
      ]
     },
     "execution_count": 26,
     "metadata": {},
     "output_type": "execute_result"
    }
   ],
   "source": [
    "simplify((x + y)**2 + (x + 2*y)**2 + x**3 + x**2 + 2*x*y + y**2)"
   ]
  },
  {
   "cell_type": "markdown",
   "metadata": {},
   "source": [
    "### 格式化"
   ]
  },
  {
   "cell_type": "markdown",
   "metadata": {},
   "source": [
    "#### letex"
   ]
  },
  {
   "cell_type": "code",
   "execution_count": 18,
   "metadata": {},
   "outputs": [],
   "source": [
    "from sympy import Integral, latex"
   ]
  },
  {
   "cell_type": "code",
   "execution_count": 28,
   "metadata": {},
   "outputs": [
    {
     "name": "stdout",
     "output_type": "stream",
     "text": [
      "$x^{3} + x^{2} + 2 x y + y^{2} + \\left(x + y\\right)^{2} + \\left(x + 2 y\\right)^{2}$\n",
      "\\begin{equation}x^{3} + x^{2} + 2 x y + y^{2} + \\left(x + y\\right)^{2} + \\left(x + 2 y\\right)^{2}\\end{equation}\n",
      "\\begin{equation*}x^{3} + x^{2} + 2 x y + y^{2} + \\left(x + y\\right)^{2} + \\left(x + 2 y\\right)^{2}\\end{equation*}\n"
     ]
    }
   ],
   "source": [
    "a = (x + y)**2 + (x + 2*y)**2 + x**3 + x**2 + 2*x*y + y**2\n",
    "print(latex(a, mode='inline'))\n",
    "print(latex(a, mode='equation'))\n",
    "print(latex(a, mode='equation*'))"
   ]
  },
  {
   "cell_type": "markdown",
   "metadata": {},
   "source": [
    "> 上面这些打印  \n",
    "$x^{3} + x^{2} + 2 x y + y^{2} + \\left(x + y\\right)^{2} + \\left(x + 2 y\\right)^{2}$\n",
    "\\begin{equation}x^{3} + x^{2} + 2 x y + y^{2} + \\left(x + y\\right)^{2} + \\left(x + 2 y\\right)^{2}\\end{equation}\n",
    "\\begin{equation*}x^{3} + x^{2} + 2 x y + y^{2} + \\left(x + y\\right)^{2} + \\left(x + 2 y\\right)^{2}\\end{equation*}"
   ]
  },
  {
   "cell_type": "markdown",
   "metadata": {},
   "source": [
    "#### MathML"
   ]
  },
  {
   "cell_type": "code",
   "execution_count": 29,
   "metadata": {},
   "outputs": [
    {
     "name": "stdout",
     "output_type": "stream",
     "text": [
      "<apply><power/><ci>x</ci><cn>2</cn></apply>\n"
     ]
    }
   ],
   "source": [
    "from sympy.printing.mathml import mathml\n",
    "from sympy import Integral, latex\n",
    "from sympy.abc import x\n",
    "print(mathml(x**2))"
   ]
  },
  {
   "cell_type": "markdown",
   "metadata": {},
   "source": [
    "> 上面的公式--jupyter 可能不支持  \n",
    "<apply><power/><ci>x</ci><cn>2</cn></apply>"
   ]
  },
  {
   "cell_type": "markdown",
   "metadata": {},
   "source": [
    "### 和numpy的交互"
   ]
  },
  {
   "cell_type": "code",
   "execution_count": 58,
   "metadata": {},
   "outputs": [
    {
     "data": {
      "text/plain": [
       "array([1, 8], dtype=int32)"
      ]
     },
     "execution_count": 58,
     "metadata": {},
     "output_type": "execute_result"
    }
   ],
   "source": [
    "import numpy as np\n",
    "x = Symbol(\"x\")\n",
    "a = x**3\n",
    "t = np.array([1, 2])\n",
    "a.evalf(subs = {'x': t})\n",
    "f = lambdify(\"x\", a, \"numpy\") # 为simpy下的函数，最好加上命名空间\n",
    "f(t)"
   ]
  },
  {
   "cell_type": "code",
   "execution_count": null,
   "metadata": {},
   "outputs": [],
   "source": []
  }
 ],
 "metadata": {
  "kernelspec": {
   "display_name": "Python 3",
   "language": "python",
   "name": "python3"
  },
  "language_info": {
   "codemirror_mode": {
    "name": "ipython",
    "version": 3
   },
   "file_extension": ".py",
   "mimetype": "text/x-python",
   "name": "python",
   "nbconvert_exporter": "python",
   "pygments_lexer": "ipython3",
   "version": "3.7.0"
  },
  "toc": {
   "base_numbering": 1,
   "nav_menu": {},
   "number_sections": true,
   "sideBar": true,
   "skip_h1_title": false,
   "title_cell": "Table of Contents",
   "title_sidebar": "Contents",
   "toc_cell": false,
   "toc_position": {},
   "toc_section_display": true,
   "toc_window_display": false
  }
 },
 "nbformat": 4,
 "nbformat_minor": 2
}
