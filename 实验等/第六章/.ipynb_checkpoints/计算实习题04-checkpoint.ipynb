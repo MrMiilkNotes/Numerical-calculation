{
 "cells": [
  {
   "cell_type": "markdown",
   "metadata": {},
   "source": [
    "# 计算实习题四"
   ]
  },
  {
   "cell_type": "markdown",
   "metadata": {},
   "source": [
    "> 本章的算法较为简单，推导过程较为繁琐，因此就不再自己推导。在课本P207给出了详细流程"
   ]
  },
  {
   "cell_type": "markdown",
   "metadata": {
    "toc": true
   },
   "source": [
    "<h1>Table of Contents<span class=\"tocSkip\"></span></h1>\n",
    "<div class=\"toc\"><ul class=\"toc-item\"><li><span><a href=\"#计算实习题四\" data-toc-modified-id=\"计算实习题四-1\"><span class=\"toc-item-num\">1&nbsp;&nbsp;</span>计算实习题四</a></span><ul class=\"toc-item\"><li><span><a href=\"#实现算法\" data-toc-modified-id=\"实现算法-1.1\"><span class=\"toc-item-num\">1.1&nbsp;&nbsp;</span>实现算法</a></span></li><li><span><a href=\"#测试\" data-toc-modified-id=\"测试-1.2\"><span class=\"toc-item-num\">1.2&nbsp;&nbsp;</span>测试</a></span></li></ul></li></ul></div>"
   ]
  },
  {
   "cell_type": "code",
   "execution_count": 1,
   "metadata": {},
   "outputs": [],
   "source": [
    "# 必要库文件\n",
    "import numpy as np\n",
    "import scipy"
   ]
  },
  {
   "cell_type": "markdown",
   "metadata": {},
   "source": [
    "## 实现算法"
   ]
  },
  {
   "cell_type": "markdown",
   "metadata": {},
   "source": [
    "- 输入`A`，`b`构造计算方法，然后调用唯一接口`cacu()`进行计算，`x`默认从`[0,0,...0]`开始迭代"
   ]
  },
  {
   "cell_type": "code",
   "execution_count": 2,
   "metadata": {},
   "outputs": [],
   "source": [
    "class CG:\n",
    "    \"\"\"共轭梯度法求解线性方程Ax=b\"\"\"\n",
    "    def __init__(self, A, b, ):\n",
    "        self.n = b.shape[0]\n",
    "        self.b = b\n",
    "        self.A = A\n",
    "        self.p = None\n",
    "        self.alpha = 0\n",
    "        self.r = None\n",
    "        self.k = 0\n",
    "        \n",
    "    def cacu(self, x = None):\n",
    "        \"\"\"具体迭代过程\"\"\"\n",
    "        if x == None :\n",
    "            x = np.zeros((self.n, 1))\n",
    "        k = self.n\n",
    "        self.r = self.p = b - np.dot(A, x)\n",
    "        while self.__cacu_alpha() and k > 0 :    # 迭代n次或者达到终止条件\n",
    "            k -= 1\n",
    "            x = x + self.alpha * self.p\n",
    "            r = self.r - self.alpha * np.dot(A, self.p)\n",
    "            B = self.__get_beta(r)\n",
    "            self.p = self.r + B * self.p\n",
    "        self.k = self.n - k\n",
    "        return x\n",
    "        \n",
    "    def __cacu_alpha(self, ):\n",
    "        \"\"\"计算Alpha，同时检验算法是否可以继续\"\"\"\n",
    "        if np.all(self.r == 0):\n",
    "            return False\n",
    "        tmp1 = np.sum(self.r * self.r)\n",
    "        tmp2 = np.sum(self.p * np.dot(A, self.p))\n",
    "        if(tmp2 == 0):\n",
    "            return False\n",
    "        self.alpha = tmp1 / tmp2\n",
    "        return True\n",
    "    \n",
    "    def __get_beta(self, r):\n",
    "        \"\"\"计算Beta\"\"\"\n",
    "        tmp = np.sum(r*r) / np.sum(self.r * self.r)\n",
    "        self.r = r\n",
    "        return tmp\n",
    "    \n",
    "    def times(self):\n",
    "        return self.k"
   ]
  },
  {
   "cell_type": "markdown",
   "metadata": {},
   "source": [
    "## 测试"
   ]
  },
  {
   "cell_type": "markdown",
   "metadata": {},
   "source": [
    "- 使用课本P207例题进行测试\n",
    "- 结果一致"
   ]
  },
  {
   "cell_type": "code",
   "execution_count": 3,
   "metadata": {},
   "outputs": [],
   "source": [
    "A = np.array([\n",
    "    [3., 1],\n",
    "    [1, 2]\n",
    "])\n",
    "b = np.array([\n",
    "    [5],\n",
    "    [5]\n",
    "])"
   ]
  },
  {
   "cell_type": "code",
   "execution_count": 4,
   "metadata": {},
   "outputs": [],
   "source": [
    "# 构造求解器\n",
    "cg_solu = CG(A, b)"
   ]
  },
  {
   "cell_type": "code",
   "execution_count": 5,
   "metadata": {},
   "outputs": [
    {
     "data": {
      "text/plain": [
       "array([[1.],\n",
       "       [2.]])"
      ]
     },
     "execution_count": 5,
     "metadata": {},
     "output_type": "execute_result"
    }
   ],
   "source": [
    "# 解出答案\n",
    "cg_solu.cacu()"
   ]
  },
  {
   "cell_type": "code",
   "execution_count": 6,
   "metadata": {},
   "outputs": [
    {
     "name": "stdout",
     "output_type": "stream",
     "text": [
      "计算次数： 2\n"
     ]
    }
   ],
   "source": [
    "print(\"计算次数：\", cg_solu.times())"
   ]
  },
  {
   "cell_type": "markdown",
   "metadata": {},
   "source": [
    "- 输入数据量太小，这里构造一个`100 * 100`的三对角矩阵`A`作为测试"
   ]
  },
  {
   "cell_type": "code",
   "execution_count": 7,
   "metadata": {},
   "outputs": [],
   "source": [
    "# 生成数据\n",
    "A = np.zeros((100, 100))\n",
    "for i in range(100): #generate A\n",
    "    for j in range(100):\n",
    "        if (i == j):\n",
    "            A[i, j] = 2\n",
    "        if (abs(i - j) == 1):\n",
    "            A[i, j] = A[j, i] = -1\n",
    "b = np.ones((100, 1))  #generate b"
   ]
  },
  {
   "cell_type": "markdown",
   "metadata": {},
   "source": [
    "- 利用`numpy`库的求逆，真实解为："
   ]
  },
  {
   "cell_type": "code",
   "execution_count": 8,
   "metadata": {},
   "outputs": [
    {
     "data": {
      "text/plain": [
       "array([[  50.,   99.,  147.,  194.,  240.,  285.,  329.,  372.,  414.,\n",
       "         455.,  495.,  534.,  572.,  609.,  645.,  680.,  714.,  747.,\n",
       "         779.,  810.,  840.,  869.,  897.,  924.,  950.,  975.,  999.,\n",
       "        1022., 1044., 1065., 1085., 1104., 1122., 1139., 1155., 1170.,\n",
       "        1184., 1197., 1209., 1220., 1230., 1239., 1247., 1254., 1260.,\n",
       "        1265., 1269., 1272., 1274., 1275., 1275., 1274., 1272., 1269.,\n",
       "        1265., 1260., 1254., 1247., 1239., 1230., 1220., 1209., 1197.,\n",
       "        1184., 1170., 1155., 1139., 1122., 1104., 1085., 1065., 1044.,\n",
       "        1022.,  999.,  975.,  950.,  924.,  897.,  869.,  840.,  810.,\n",
       "         779.,  747.,  714.,  680.,  645.,  609.,  572.,  534.,  495.,\n",
       "         455.,  414.,  372.,  329.,  285.,  240.,  194.,  147.,   99.,\n",
       "          50.]])"
      ]
     },
     "execution_count": 8,
     "metadata": {},
     "output_type": "execute_result"
    }
   ],
   "source": [
    "np.dot(np.linalg.inv(A), b).T"
   ]
  },
  {
   "cell_type": "markdown",
   "metadata": {},
   "source": [
    "- 使用我们的方法进行求解\n",
    "> 可以看到的确得到了正确解，计算次数小于`n=100`，只用了50次迭代"
   ]
  },
  {
   "cell_type": "code",
   "execution_count": 9,
   "metadata": {},
   "outputs": [
    {
     "name": "stdout",
     "output_type": "stream",
     "text": [
      "[[  50.   99.  147.  194.  240.  285.  329.  372.  414.  455.  495.  534.\n",
      "   572.  609.  645.  680.  714.  747.  779.  810.  840.  869.  897.  924.\n",
      "   950.  975.  999. 1022. 1044. 1065. 1085. 1104. 1122. 1139. 1155. 1170.\n",
      "  1184. 1197. 1209. 1220. 1230. 1239. 1247. 1254. 1260. 1265. 1269. 1272.\n",
      "  1274. 1275. 1275. 1274. 1272. 1269. 1265. 1260. 1254. 1247. 1239. 1230.\n",
      "  1220. 1209. 1197. 1184. 1170. 1155. 1139. 1122. 1104. 1085. 1065. 1044.\n",
      "  1022.  999.  975.  950.  924.  897.  869.  840.  810.  779.  747.  714.\n",
      "   680.  645.  609.  572.  534.  495.  455.  414.  372.  329.  285.  240.\n",
      "   194.  147.   99.   50.]]\n"
     ]
    }
   ],
   "source": [
    "cg_solu = CG(A, b)\n",
    "print(cg_solu.cacu().T)"
   ]
  },
  {
   "cell_type": "code",
   "execution_count": 10,
   "metadata": {},
   "outputs": [
    {
     "name": "stdout",
     "output_type": "stream",
     "text": [
      "计算次数： 50\n"
     ]
    }
   ],
   "source": [
    "print(\"计算次数：\", cg_solu.times())"
   ]
  },
  {
   "cell_type": "code",
   "execution_count": null,
   "metadata": {},
   "outputs": [],
   "source": []
  }
 ],
 "metadata": {
  "kernelspec": {
   "display_name": "Python 3",
   "language": "python",
   "name": "python3"
  },
  "language_info": {
   "codemirror_mode": {
    "name": "ipython",
    "version": 3
   },
   "file_extension": ".py",
   "mimetype": "text/x-python",
   "name": "python",
   "nbconvert_exporter": "python",
   "pygments_lexer": "ipython3",
   "version": "3.7.0"
  },
  "toc": {
   "base_numbering": 1,
   "nav_menu": {},
   "number_sections": true,
   "sideBar": true,
   "skip_h1_title": false,
   "title_cell": "Table of Contents",
   "title_sidebar": "Contents",
   "toc_cell": true,
   "toc_position": {},
   "toc_section_display": true,
   "toc_window_display": false
  }
 },
 "nbformat": 4,
 "nbformat_minor": 2
}
