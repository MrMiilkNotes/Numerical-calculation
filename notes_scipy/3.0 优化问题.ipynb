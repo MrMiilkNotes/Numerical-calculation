{
 "cells": [
  {
   "cell_type": "markdown",
   "metadata": {},
   "source": [
    "### 建模第四次作业遇到线性规划问题\n",
    "发现了一个解决线性规划很好用的库，`pulp`"
   ]
  },
  {
   "cell_type": "markdown",
   "metadata": {},
   "source": [
    "#### 简单的例子："
   ]
  },
  {
   "cell_type": "code",
   "execution_count": 1,
   "metadata": {},
   "outputs": [
    {
     "name": "stdout",
     "output_type": "stream",
     "text": [
      "Status: Optimal\n",
      "x = 6.0\n",
      "y = 3.0\n"
     ]
    }
   ],
   "source": [
    "#\n",
    "import pulp as pp\n",
    "from pulp import LpMaximize, LpVariable, LpInteger, LpProblem,LpStatus\n",
    "\n",
    "prob = LpProblem(\"problem\", LpMaximize)#定义求解最大值问题-->LpMinimize\n",
    "x = LpVariable('x', 0, 6, LpInteger)   #定义变量\n",
    "'''\n",
    "这里第二，第三个参数分别为变量取值的上下限，第三个参数指定了变量是整型还是浮点\n",
    "'''\n",
    "y = LpVariable('y', 0, None, LpInteger)\n",
    "#约束条件\n",
    "prob += 400*x + 100*y\n",
    "prob += 8*x + 10*y <= 80\n",
    "prob += 2*x + 6*y <= 36\n",
    "#问题表述存储\n",
    "prob.writeLP('prob.lp')\n",
    "prob.solve()\n",
    "print(\"Status:\", LpStatus[prob.status])#求解是否成功\n",
    "for v in prob.variables():\n",
    "    print(v.name, \"=\", v.varValue)"
   ]
  },
  {
   "cell_type": "markdown",
   "metadata": {},
   "source": [
    ">正常来讲普通的线性规划求解都是没啥问题的\n",
    "- lpSum():求和函数\n",
    "- 枚举函数\n",
    "    - allcombinations()\n",
    "    - permutation()\n",
    "    - allpermutations()\n",
    "- [文档](https://www.coin-or.org/PuLP/index.html)还提供了组合优化和数度的例子"
   ]
  },
  {
   "cell_type": "code",
   "execution_count": 4,
   "metadata": {},
   "outputs": [
    {
     "name": "stdout",
     "output_type": "stream",
     "text": [
      "The choosen tables are out of a total of 3213:\n",
      "('M', 'N')\n",
      "('E', 'F', 'G')\n",
      "('A', 'B', 'C', 'D')\n",
      "('I', 'J', 'K', 'L')\n",
      "('O', 'P', 'Q', 'R')\n"
     ]
    }
   ],
   "source": [
    "#婚礼就坐的例子，有点过分的解法,时间复杂度hhhhh\n",
    "import pulp\n",
    "\n",
    "max_tables = 5\n",
    "max_table_size = 4\n",
    "guests = 'A B C D E F G I J K L M N O P Q R'.split()\n",
    "\n",
    "def happiness(table):\n",
    "    \"\"\"\n",
    "    Find the happiness of the table\n",
    "    - by calculating the maximum distance between the letters\n",
    "    \"\"\"\n",
    "    return abs(ord(table[0]) - ord(table[-1]))\n",
    "                \n",
    "#枚举所有可能的就坐\n",
    "possible_tables = [tuple(c) for c in pulp.allcombinations(guests, \n",
    "                                        max_table_size)]\n",
    "# print('possibile table', possible_tables)\n",
    "#create a binary variable to state that a table setting is used(一个就坐模式是否被使用)\n",
    "x = pulp.LpVariable.dicts('table', possible_tables, \n",
    "                            lowBound = 0,\n",
    "                            upBound = 1,\n",
    "                            cat = pulp.LpInteger)\n",
    "# print('x', x)\n",
    "seating_model = pulp.LpProblem(\"Wedding Seating Model\", pulp.LpMinimize)\n",
    "# 优化目标是happy值累加，这里直接使用了所有可能种类\n",
    "seating_model += sum([happiness(table) * x[table] for table in possible_tables])\n",
    "\n",
    "#总的桌数限制\n",
    "seating_model += sum([x[table] for table in possible_tables]) <= max_tables, \\\n",
    "                            \"Maximum_number_of_tables\"\n",
    "\n",
    "#A guest must seated at one and only one table\n",
    "for guest in guests:\n",
    "    seating_model += sum([x[table] for table in possible_tables\n",
    "                                if guest in table]) == 1, \"Must_seat_%s\"%guest\n",
    "seating_model.solve()\n",
    "\n",
    "print(\"The choosen tables are out of a total of %s:\"%len(possible_tables))\n",
    "for table in possible_tables:\n",
    "    if x[table].value() == 1.0:\n",
    "        print(table)"
   ]
  },
  {
   "cell_type": "code",
   "execution_count": null,
   "metadata": {},
   "outputs": [],
   "source": [
    "from plup import allcombinations，permutation,allpermutations\n",
    "#打印出来就知道区别了\n",
    "c1 = allcombinations()\n",
    "c2 = permutation()\n",
    "c3 = allpermutations()"
   ]
  },
  {
   "cell_type": "markdown",
   "metadata": {},
   "source": [
    "### scipy的优化--的确是没看到整数规划的设置\n",
    "- 线性规划问题\n",
    "- 和matlab比较像，函数为`linprog`\n",
    "    - 返回的`status`  \n",
    "        0：优化成功终止  \n",
    "        1：达到迭代限制  \n",
    "        2：问题似乎不可行  \n",
    "        3：问题似乎没有限制\n",
    "    - `nit`：迭代次数"
   ]
  },
  {
   "attachments": {
    "%E5%9B%BE%E7%89%87.png": {
     "image/png": "[encoded data removed]"
    }
   },
   "cell_type": "markdown",
   "metadata": {},
   "source": [
    "![%E5%9B%BE%E7%89%87.png](attachment:%E5%9B%BE%E7%89%87.png)"
   ]
  },
  {
   "cell_type": "code",
   "execution_count": 3,
   "metadata": {},
   "outputs": [
    {
     "name": "stdout",
     "output_type": "stream",
     "text": [
      "     fun: -14.571428571428571\n",
      " message: 'Optimization terminated successfully.'\n",
      "     nit: 2\n",
      "   slack: array([3.85714286, 0.57142857, 6.42857143, 7.        , 0.        ])\n",
      "  status: 0\n",
      " success: True\n",
      "       x: array([6.42857143, 0.57142857, 0.        ])\n"
     ]
    }
   ],
   "source": [
    "from scipy import optimize\n",
    "import numpy as np\n",
    "\n",
    "c = np.array([2, 3, -5])    #这个描述的是minmize对象\n",
    "A_ub = np.array([\n",
    "    [-2, 5, -1],\n",
    "    [1, 3, 1]\n",
    "])\n",
    "B_ub = np.array([-10, 12])\n",
    "A_eq = np.array([[1, 1, 1]])\n",
    "B_eq = np.array([7])\n",
    "x1 = (0, 7)\n",
    "x2 = (0, 7)\n",
    "x3 = (0, 7)\n",
    "res = optimize.linprog(-c, A_ub, B_ub, A_eq, B_eq, bounds=(x1, x2, x3))\n",
    "print(res)"
   ]
  },
  {
   "cell_type": "markdown",
   "metadata": {},
   "source": [
    "## Scipy的optimize模块\n",
    "- minimize：多标量函数优化\n",
    "- 全局优化：basinhopping，differential_evolution\n",
    "- 最小二乘法：least_squares\n",
    "- 曲线拟合：curve_fit\n",
    "- 单标量优化：minimize_scalar\n",
    "- root finders:newton\n",
    "- 多变量方程求根：root"
   ]
  },
  {
   "cell_type": "markdown",
   "metadata": {},
   "source": [
    "### 大部分方法直接调用minimize就能实现\n",
    "- `scipy`提供了`mminimize`方法[Link](https://docs.scipy.org/doc/scipy/reference/generated/scipy.optimize.minimize.html#scipy.optimize.minimize)，在它上面有很多更专一的接口\n",
    "    - 主要参数：\n",
    "        - fun\n",
    "        - x0:一个有价值的x0真的决定很多\n",
    "        - method：可以调用的方法，挺多的，等学习数值优化再回来补充\n",
    "        - bounds:一系列(min, max)\n",
    "        - constraints:约束条件"
   ]
  },
  {
   "cell_type": "code",
   "execution_count": 2,
   "metadata": {},
   "outputs": [],
   "source": [
    "import numpy as np\n",
    "from scipy.optimize import minimize\n",
    "from scipy import optimize"
   ]
  },
  {
   "cell_type": "markdown",
   "metadata": {},
   "source": []
  },
  {
   "cell_type": "markdown",
   "metadata": {},
   "source": [
    " ### 单变量，对于线性规划，特别是整数规划，直接使用前面的pulp库\n",
    " - scipy.optimize.minimize_scalar() 给出了一个一维标量最优化的通用接口"
   ]
  },
  {
   "cell_type": "markdown",
   "metadata": {},
   "source": [
    "### 多变量标量函数的无约束优化"
   ]
  },
  {
   "cell_type": "markdown",
   "metadata": {},
   "source": [
    "##### Nelder-Mead法\n",
    "- 不是很懂，不需要任何梯度评估，因而可能需要更长时间，正常用于优化良好函数\n",
    "- 优化对象：(Rosenbrock function)\n",
    "<img src='imgs\\3_1.png' width='300px' />"
   ]
  },
  {
   "cell_type": "code",
   "execution_count": 4,
   "metadata": {},
   "outputs": [],
   "source": [
    "def f(x):   # rosenbrock函数\n",
    "    return sum(100.0*(x[1:]-x[:-1]**2.0)**2.0 + (1-x[:-1])**2.0)"
   ]
  },
  {
   "cell_type": "code",
   "execution_count": 8,
   "metadata": {},
   "outputs": [
    {
     "name": "stdout",
     "output_type": "stream",
     "text": [
      "Optimization terminated successfully.\n",
      "         Current function value: 0.000000\n",
      "         Iterations: 339\n",
      "         Function evaluations: 571\n",
      "[1. 1. 1. 1. 1.]\n"
     ]
    }
   ],
   "source": [
    "#使用minimize\n",
    "x0 = np.array([1.3, 0.7, 0.8, 1.9, 1.2])\n",
    "res = minimize(f, x0, method='nelder-mead', \n",
    "               options={'xtol':1e-8, 'disp':True})#定义迭代中x的绝对误差\n",
    "print(res.x)"
   ]
  },
  {
   "cell_type": "code",
   "execution_count": 11,
   "metadata": {},
   "outputs": [
    {
     "name": "stdout",
     "output_type": "stream",
     "text": [
      "Optimization terminated successfully.\n",
      "         Current function value: 0.000000\n",
      "         Iterations: 339\n",
      "         Function evaluations: 571\n"
     ]
    },
    {
     "data": {
      "text/plain": [
       "array([1., 1., 1., 1., 1.])"
      ]
     },
     "execution_count": 11,
     "metadata": {},
     "output_type": "execute_result"
    }
   ],
   "source": [
    "#或者\n",
    "optimize.fmin(f, [1.3, 0.7, 0.8, 1.9, 1.2], xtol=1e-8)"
   ]
  },
  {
   "cell_type": "markdown",
   "metadata": {},
   "source": [
    "##### 简单共轭梯度下降方法(conjugate-gradient)"
   ]
  },
  {
   "cell_type": "code",
   "execution_count": 9,
   "metadata": {},
   "outputs": [
    {
     "name": "stdout",
     "output_type": "stream",
     "text": [
      "Optimization terminated successfully.\n",
      "         Current function value: 0.000000\n",
      "         Iterations: 8\n",
      "         Function evaluations: 20\n",
      "         Gradient evaluations: 20\n"
     ]
    },
    {
     "data": {
      "text/plain": [
       "array([0.99999649, 0.99999274])"
      ]
     },
     "execution_count": 9,
     "metadata": {},
     "output_type": "execute_result"
    }
   ],
   "source": [
    "from scipy import optimize\n",
    "import numpy as np\n",
    "\n",
    "def fprime(x):\n",
    "    return np.array((-2*.5*(1 - x[0]) - 4*x[0]*(x[1] - x[0]**2), 2*(x[1] - x[0]**2)))\n",
    "\n",
    "optimize.fmin_cg(f, [1.3, 0.7, 0.8, 1.9, 1.2], fprime=fprime)  #这里不一定要指定导数，但指定有利于计算"
   ]
  },
  {
   "cell_type": "markdown",
   "metadata": {},
   "source": [
    "##### 牛顿法和拟牛顿法"
   ]
  },
  {
   "cell_type": "markdown",
   "metadata": {},
   "source": [
    "\n",
    "- 拟牛顿法:'BFGS':使用目标函数的梯度的方法，可以选择传入导数或者由算法估计\n",
    "    - Rosenbrock函数的导数：\n",
    "    <img src='imgs\\3_2.png' width='400px' />\n",
    "    端点处：\n",
    "    <img src='imgs\\3_3.png' width='400px' />"
   ]
  },
  {
   "cell_type": "code",
   "execution_count": 12,
   "metadata": {},
   "outputs": [],
   "source": [
    "def rosen_der(x):\n",
    "    '''返回导数列表'''\n",
    "    xm = x[1:-1]\n",
    "    xm_ml = x[:-2]\n",
    "    xm_pl = x[2:]\n",
    "    der = np.zeros_like(x)\n",
    "    der[1:-1] = 200*(xm - xm_ml**2) - 400*xm*(xm_pl - xm**2) - 2*(1-xm)\n",
    "    der[0] = -400*x[0]*(x[1] - x[0]**2) - 2*(1 - x[0])\n",
    "    der[-1] = 200*(x[-1] - x[-2]**2)\n",
    "    return der"
   ]
  },
  {
   "cell_type": "code",
   "execution_count": 14,
   "metadata": {},
   "outputs": [
    {
     "name": "stdout",
     "output_type": "stream",
     "text": [
      "Optimization terminated successfully.\n",
      "         Current function value: 0.000000\n",
      "         Iterations: 25\n",
      "         Function evaluations: 30\n",
      "         Gradient evaluations: 30\n",
      "[1.00000004 1.0000001  1.00000021 1.00000044 1.00000092]\n"
     ]
    }
   ],
   "source": [
    "res = minimize(f, x0, method='BFGS', jac=rosen_der,\n",
    "              options={'disp':True})\n",
    "print(res.x)"
   ]
  },
  {
   "cell_type": "code",
   "execution_count": 16,
   "metadata": {},
   "outputs": [
    {
     "name": "stdout",
     "output_type": "stream",
     "text": [
      "Optimization terminated successfully.\n",
      "         Current function value: 0.000000\n",
      "         Iterations: 25\n",
      "         Function evaluations: 30\n",
      "         Gradient evaluations: 30\n"
     ]
    },
    {
     "data": {
      "text/plain": [
       "array([1.00000004, 1.0000001 , 1.00000021, 1.00000044, 1.00000092])"
      ]
     },
     "execution_count": 16,
     "metadata": {},
     "output_type": "execute_result"
    }
   ],
   "source": [
    "# 另一种形式\n",
    "optimize.fmin_bfgs(f, x0, fprime=rosen_der)"
   ]
  },
  {
   "cell_type": "markdown",
   "metadata": {},
   "source": [
    "- Newton-CG法：改进的牛顿法，通过二次型拟合；\n",
    "    <img src='imgs/3_4.png' width='400px'>\n",
    "    然后求解：\n",
    "    <img src='imgs/3_5.png' width='400px'>\n",
    "    Hessian矩阵的逆使用共轭梯度法进行计算，如果想完整地执行这个算法，必须提供Hessian矩阵，可以直接提供Hessian矩阵计算式或者用于产生Hessian矩阵的向量  \n",
    "    比如例子的Rosenbrock函数的导数：\n",
    "    <img src='imgs/3_6.png' width='600px'>\n",
    "    边界处：\n",
    "    <img src='imgs/3_7.png' width='600px'>\n",
    "    <img src='imgs/3_8.png' width='600px'>"
   ]
  },
  {
   "cell_type": "code",
   "execution_count": 17,
   "metadata": {},
   "outputs": [],
   "source": [
    "#Hessian矩阵，N=5\n",
    "def rosen_hess(x):\n",
    "    x = np.asarray(x)\n",
    "    H = np.diag(-400*x[:-1], 1) + np.diag(-400*x[:-1], -1)\n",
    "    diagonal = np.zeros_like(x)\n",
    "    diagonal[0] = 1200 * x[0]**2 - 400*x[1] + 2\n",
    "    diagonal[-1] = 200\n",
    "    diagonal[1:-1] = 202  + 1200 * x[1:-1]**2 - 400*x[2:]\n",
    "    H += np.diag(diagonal)\n",
    "    return H"
   ]
  },
  {
   "cell_type": "code",
   "execution_count": 19,
   "metadata": {},
   "outputs": [
    {
     "name": "stdout",
     "output_type": "stream",
     "text": [
      "Optimization terminated successfully.\n",
      "         Current function value: 0.000000\n",
      "         Iterations: 24\n",
      "         Function evaluations: 33\n",
      "         Gradient evaluations: 56\n",
      "         Hessian evaluations: 24\n",
      "[1.         1.         1.         0.99999999 0.99999999]\n"
     ]
    }
   ],
   "source": [
    "res = minimize(f, x0, method='Newton-CG',\n",
    "              jac=rosen_der, hess=rosen_hess,\n",
    "              options={'xtol':1e-8, 'disp':True})\n",
    "print(res.x)"
   ]
  },
  {
   "cell_type": "code",
   "execution_count": 24,
   "metadata": {},
   "outputs": [
    {
     "name": "stdout",
     "output_type": "stream",
     "text": [
      "Optimization terminated successfully.\n",
      "         Current function value: 0.000000\n",
      "         Iterations: 21\n",
      "         Function evaluations: 30\n",
      "         Gradient evaluations: 50\n",
      "         Hessian evaluations: 21\n"
     ]
    },
    {
     "data": {
      "text/plain": [
       "array([0.9999852 , 0.9999705 , 0.99994098, 0.99988173, 0.99976293])"
      ]
     },
     "execution_count": 24,
     "metadata": {},
     "output_type": "execute_result"
    }
   ],
   "source": [
    "#另一个形式\n",
    "optimize.fmin_ncg(f, x0, fprime=rosen_der, \n",
    "                  fhess=rosen_hess, disp=True)"
   ]
  },
  {
   "cell_type": "code",
   "execution_count": 25,
   "metadata": {},
   "outputs": [
    {
     "name": "stdout",
     "output_type": "stream",
     "text": [
      "Optimization terminated successfully.\n",
      "         Current function value: 0.000000\n",
      "         Iterations: 21\n",
      "         Function evaluations: 30\n",
      "         Gradient evaluations: 152\n",
      "         Hessian evaluations: 0\n"
     ]
    },
    {
     "data": {
      "text/plain": [
       "array([0.99998222, 0.99996459, 0.99992918, 0.99985811, 0.99971558])"
      ]
     },
     "execution_count": 25,
     "metadata": {},
     "output_type": "execute_result"
    }
   ],
   "source": [
    "# 不指定Hessian矩阵可以看到梯度评估增加了好多次\n",
    "optimize.fmin_ncg(f, x0, fprime=rosen_der, \n",
    "                  disp=True)"
   ]
  },
  {
   "cell_type": "markdown",
   "metadata": {},
   "source": [
    "- 指定hess计算函数：在Newton_CG法中Hessian矩阵用来dot一个向量，因而可以通过`hess`函数直接提供相乘后的结果  \n",
    "    比如Rosenbrocb函数：\n",
    "    <img src='imgs/3_9.png' width='400px'>"
   ]
  },
  {
   "cell_type": "code",
   "execution_count": 26,
   "metadata": {},
   "outputs": [],
   "source": [
    "def rosen_hess_p(x, p):\n",
    "    x = np.array(x)\n",
    "    Hp = np.zeros_like(x)\n",
    "    Hp[0] = (1200*x[0]**2 - 400*x[1] + 2)*p[0] - 400*x[0]*p[1]\n",
    "    Hp[1:-1] = -400*x[:-2]*p[:-2]+(202+1200*x[1:-1]**2-400*x[2:])*p[1:-1] \\\n",
    "                -400*x[1:-1]*p[2:]\n",
    "    Hp[-1] = -400*x[-2]*p[-2] + 200*p[-1]\n",
    "    return Hp"
   ]
  },
  {
   "cell_type": "code",
   "execution_count": 28,
   "metadata": {},
   "outputs": [
    {
     "name": "stdout",
     "output_type": "stream",
     "text": [
      "Optimization terminated successfully.\n",
      "         Current function value: 0.000000\n",
      "         Iterations: 24\n",
      "         Function evaluations: 33\n",
      "         Gradient evaluations: 56\n",
      "         Hessian evaluations: 66\n",
      "[1.         1.         1.         0.99999999 0.99999999]\n"
     ]
    }
   ],
   "source": [
    "res = minimize(f, x0, method='Newton-CG',\n",
    "              jac=rosen_der, hessp=rosen_hess_p,\n",
    "              options={'xtol': 1e-8, 'disp': True})\n",
    "print(res.x)"
   ]
  },
  {
   "cell_type": "markdown",
   "metadata": {},
   "source": [
    "- 信赖域Newton-CG法\n",
    "    <img src='imgs/3_10.png' width='800px'>"
   ]
  },
  {
   "cell_type": "code",
   "execution_count": null,
   "metadata": {},
   "outputs": [],
   "source": [
    "#Hessian 矩阵\n",
    "res = minimize(rosen, x0, method='trust-ncg',\n",
    "               jac=rosen_der, hess=rosen_hess,\n",
    "               options={'gtol': 1e-8, 'disp': True})\n",
    "#Hess函数\n",
    "res = minimize(rosen, x0, method='trust-ncg',\n",
    "               jac=rosen_der, hessp=rosen_hess_p,\n",
    "               options={'gtol': 1e-8, 'disp': True})"
   ]
  },
  {
   "cell_type": "markdown",
   "metadata": {},
   "source": [
    "- Trust_krylov法\n",
    "    <img src='imgs/3_11.png' width='800px'/>"
   ]
  },
  {
   "cell_type": "code",
   "execution_count": null,
   "metadata": {},
   "outputs": [],
   "source": [
    "#Hessian 矩阵\n",
    "res = minimize(rosen, x0, method='trust-krylov',\n",
    "               jac=rosen_der, hess=rosen_hess,\n",
    "               options={'gtol': 1e-8, 'disp': True})\n",
    "#Hess函数\n",
    "res = minimize(rosen, x0, method='trust-krylov',\n",
    "               jac=rosen_der, hessp=rosen_hess_p,\n",
    "               options={'gtol': 1e-8, 'disp': True})"
   ]
  },
  {
   "cell_type": "markdown",
   "metadata": {},
   "source": [
    "- Trust-exact法\n",
    "<img src='imgs/3_12.png' width='800px'>"
   ]
  },
  {
   "cell_type": "code",
   "execution_count": null,
   "metadata": {},
   "outputs": [],
   "source": [
    "res = minimize(rosen, x0, method='trust-exact',\n",
    "               jac=rosen_der, hess=rosen_hess,\n",
    "               options={'gtol': 1e-8, 'disp': True})"
   ]
  },
  {
   "cell_type": "markdown",
   "metadata": {},
   "source": [
    "### 多元约束优化"
   ]
  },
  {
   "cell_type": "markdown",
   "metadata": {},
   "source": [
    "- scipy 提供了**三种**约束方法，下面会具体介绍\n",
    "- 问题形式：优化Rosenbrock函数：\n",
    "    <img src='imgs/3_13.png' width='800px'>"
   ]
  },
  {
   "cell_type": "markdown",
   "metadata": {},
   "source": [
    "- `trust-constr`,通过过`LinearConstraint`和`NolinearConstraint`定义约束条件\n",
    "    - 约束的形式：\n",
    "    <img src='imgs/3_14.png' width='800px'>"
   ]
  },
  {
   "cell_type": "markdown",
   "metadata": {},
   "source": [
    "> 这里指定边界条件，然后给出线性和非线性约束的例子"
   ]
  },
  {
   "cell_type": "code",
   "execution_count": 40,
   "metadata": {},
   "outputs": [],
   "source": [
    "from scipy.optimize import Bounds\n",
    "\n",
    "bounds = Bounds([0, -0.5], [1.0, 2.0])"
   ]
  },
  {
   "cell_type": "markdown",
   "metadata": {},
   "source": [
    "    线性约束条件：\n",
    "<img src='imgs/3_15.png' width='800px'>"
   ]
  },
  {
   "cell_type": "code",
   "execution_count": 34,
   "metadata": {},
   "outputs": [],
   "source": [
    "from scipy.optimize import LinearConstraint\n",
    "\n",
    "linear_constraint = LinearConstraint([[1, 2], [2, 1]], [-np.inf, 1], [1, 1])"
   ]
  },
  {
   "cell_type": "markdown",
   "metadata": {},
   "source": [
    "    非线性约束条件：\n",
    "<img src='imgs/3_16.png' width='800px'>\n"
   ]
  },
  {
   "cell_type": "code",
   "execution_count": 2,
   "metadata": {},
   "outputs": [],
   "source": [
    "from scipy.optimize import NonlinearConstraint\n",
    "import numpy as np\n",
    "\n",
    "def cons_f(x):\n",
    "    return [x[0]**2 + x[1], x[0]**2 - x[1]]\n",
    "def cons_J(x):\n",
    "    return [[2*x[0], 1], [2*x[0], -1]]\n",
    "def cons_H(x, v):\n",
    "    return v[0]*np.array([[2, 0], [0, 0]]) + v[1]*np.array([[2, 0], [0, 0]])\n",
    "nolinear_constraint = NonlinearConstraint(cons_f, -np.inf, 1, jac=cons_J, hess=cons_H)"
   ]
  },
  {
   "cell_type": "code",
   "execution_count": null,
   "metadata": {},
   "outputs": [],
   "source": []
  },
  {
   "cell_type": "markdown",
   "metadata": {},
   "source": [
    "对于Hessian矩阵难以给出的，目前推荐是使用`BFGS`和`SR1`,或者是使用有限差分\n",
    "> **注意**：雅可比式也可以使用有限差分，但这时候需要**'由用户提供或使用上面的HessianUpdateStrategy'**"
   ]
  },
  {
   "cell_type": "code",
   "execution_count": null,
   "metadata": {},
   "outputs": [],
   "source": [
    "from scipy.optimize import BFGS\n",
    "\n",
    "nonlinear_constraint = NonlinearConstraint(cons_f, -np.inf, 1, jac=cons_J, hess=BFGS())"
   ]
  },
  {
   "cell_type": "code",
   "execution_count": null,
   "metadata": {},
   "outputs": [],
   "source": [
    "nonlinear_constraint = NonlinearConstraint(cons_f, -np.inf, 1, jac=cons_J, hess='2-point')\n",
    "\n",
    "nonlinear_constraint = NonlinearConstraint(cons_f, -np.inf, 1, jac='2-point', hess=BFGS())"
   ]
  },
  {
   "cell_type": "markdown",
   "metadata": {},
   "source": [
    ">求解:"
   ]
  },
  {
   "cell_type": "code",
   "execution_count": null,
   "metadata": {},
   "outputs": [],
   "source": [
    "x0 = np.array([.5, 0])\n",
    "res = minimize(rosen, x0, method='trust-constr', jac=rosen_der, hess=rosen_hess,\n",
    "              constraints=[linear_constraint, nolinear_constraint],\n",
    "              options={'verbose':1}, bounds=bounds)\n",
    "print(res.x)"
   ]
  },
  {
   "cell_type": "markdown",
   "metadata": {},
   "source": [
    ">在求解时可以选择使用SR1():"
   ]
  },
  {
   "cell_type": "code",
   "execution_count": null,
   "metadata": {},
   "outputs": [],
   "source": [
    "from scipy import SR1\n",
    "\n",
    "res = minimize(rosen, x0, method='trust-constr', jac='2-point',\n",
    "              hess=SR1(), constraints=[linear_constraint, nolinear_constraints],\n",
    "              options={'verbose':1}, bounds=bounds)\n",
    "print(res.x)"
   ]
  },
  {
   "cell_type": "markdown",
   "metadata": {},
   "source": [
    "- `SLSQP`法  \n",
    "解决的问题的形式：\n",
    "<img src='imgs/3_17.png' width='800px'/>\n",
    "约束项包含了线性和非线性，定义格式(**注意：**这里优化的依旧时之前那个函数)："
   ]
  },
  {
   "cell_type": "code",
   "execution_count": null,
   "metadata": {},
   "outputs": [],
   "source": [
    "ineq_cons = {\n",
    "    'type':'ineq',\n",
    "    'fun':lambda x:np.array([\n",
    "        1 - x[0] - 2*x[1],\n",
    "        1 - x[0]**2 - x[1],\n",
    "        1 - x[0]**2 + x[1]\n",
    "    ])\n",
    "    'jac':lambda x:np.array([\n",
    "        [1., 2.],\n",
    "        [-2*x[0], -1.],\n",
    "        [-2*x[0], 1.]\n",
    "    ])\n",
    "}\n",
    "eq_cons = {'type': 'eq',\n",
    "           'fun' : lambda x: np.array([2*x[0] + x[1] - 1]),\n",
    "           'jac' : lambda x: np.array([2.0, 1.0])}"
   ]
  },
  {
   "cell_type": "markdown",
   "metadata": {},
   "source": [
    "> 求解"
   ]
  },
  {
   "cell_type": "code",
   "execution_count": null,
   "metadata": {},
   "outputs": [],
   "source": [
    "x0 = np.array([0.5, 0])\n",
    "res = minimize(rosen, x0, method='SLSQP', jac=rosen_der,\n",
    "               constraints=[eq_cons, ineq_cons], \n",
    "               options={'ftol': 1e-9, 'disp': True},bounds=bounds)\n",
    "print(res.x)"
   ]
  },
  {
   "attachments": {},
   "cell_type": "markdown",
   "metadata": {},
   "source": [
    "https://docs.scipy.org/doc/scipy/reference/tutorial/optimize.html#tutorial-sqlsp"
   ]
  },
  {
   "cell_type": "code",
   "execution_count": null,
   "metadata": {},
   "outputs": [],
   "source": []
  },
  {
   "cell_type": "code",
   "execution_count": null,
   "metadata": {},
   "outputs": [],
   "source": []
  },
  {
   "cell_type": "code",
   "execution_count": null,
   "metadata": {},
   "outputs": [],
   "source": []
  },
  {
   "cell_type": "code",
   "execution_count": null,
   "metadata": {},
   "outputs": [],
   "source": [
    "#无约束优化的例子\n",
    "from scipy.optimize import minimize\n",
    "import numpy as np\n",
    "\n",
    "local = np.array([\n",
    "    [15, 85],\n",
    "    [42, 145],\n",
    "    [88, 145],\n",
    "    [125, 140],\n",
    "    [135, 125],\n",
    "    [180, 18]\n",
    "])\n",
    "weight = np.array([160, 90, 105, 35, 60, 75])\n",
    "#定义最小二乘优化目标\n",
    "def func(point):\n",
    "    dis = np.sum(np.square(local-point), axis=1)\n",
    "    return np.sum(dis*weight)\n",
    "\n",
    "x0 = np.sum(local, axis=0)/6\n",
    "# print(list(x0))\n",
    "res = minimize(func, x0, method='SLSQP')\n",
    "print(res)"
   ]
  },
  {
   "cell_type": "code",
   "execution_count": 6,
   "metadata": {},
   "outputs": [
    {
     "name": "stdout",
     "output_type": "stream",
     "text": [
      "     fun: 0.8000000011920985\n",
      "     jac: array([ 0.80000002, -1.59999999])\n",
      " message: 'Optimization terminated successfully.'\n",
      "    nfev: 13\n",
      "     nit: 3\n",
      "    njev: 3\n",
      "  status: 0\n",
      " success: True\n",
      "       x: array([1.4, 1.7])\n"
     ]
    }
   ],
   "source": [
    "#有约束优化的例子\n",
    "from scipy.optimize import minimize\n",
    "fun = lambda x: (x[0] - 1)**2 + (x[1] - 2.5)**2\n",
    "cons = ({'type': 'ineq', 'fun': lambda x:  x[0] - 2 * x[1] + 2},\n",
    "         {'type': 'ineq', 'fun': lambda x: -x[0] - 2 * x[1] + 6},\n",
    "         {'type': 'ineq', 'fun': lambda x: -x[0] + 2 * x[1] + 2})\n",
    "bnds = ((0, None), (0, None))\n",
    "res = minimize(fun, (2, 0), method='SLSQP', bounds=bnds,\n",
    "                constraints=cons)\n",
    "print(res)"
   ]
  },
  {
   "cell_type": "markdown",
   "metadata": {},
   "source": [
    "### 全局优化算法"
   ]
  },
  {
   "cell_type": "markdown",
   "metadata": {},
   "source": [
    "#### 暴力法\n",
    "- `scipy.optimize.brute()`在函数网格内来评价函数，根据最小值返回参数。参数由`numpy.mgrid`给出的范围来指定。默认情况下，每个方向进行20步"
   ]
  },
  {
   "cell_type": "code",
   "execution_count": 14,
   "metadata": {},
   "outputs": [
    {
     "data": {
      "text/plain": [
       "array([1.00001462, 1.00001547])"
      ]
     },
     "execution_count": 14,
     "metadata": {},
     "output_type": "execute_result"
    }
   ],
   "source": [
    "def f(x):   # rosenbrock函数\n",
    "    return .5*(1 - x[0])**2 + (x[1] - x[0]**2)**2\n",
    "optimize.brute(f, ((-1, 2), (-1, 2)))"
   ]
  },
  {
   "cell_type": "markdown",
   "metadata": {},
   "source": [
    "### 带约束的序列最小二乘\n",
    "- 参数：\n",
    "    - eqcons:(list) ==0\n",
    "    - f_eqcons:(list) ==0,优先级更高\n",
    "    - ieqcons:>=0\n",
    "    - f_ieqcons:>=0\n",
    "    - bounds\n",
    "    - fprime\n",
    "    - iter\n",
    "    - acc"
   ]
  },
  {
   "cell_type": "code",
   "execution_count": 15,
   "metadata": {},
   "outputs": [
    {
     "name": "stdout",
     "output_type": "stream",
     "text": [
      "Optimization terminated successfully.    (Exit mode 0)\n",
      "            Current function value: 2.4748737350428893\n",
      "            Iterations: 5\n",
      "            Function evaluations: 20\n",
      "            Gradient evaluations: 5\n"
     ]
    },
    {
     "data": {
      "text/plain": [
       "array([1.25004693, 0.24995307])"
      ]
     },
     "execution_count": 15,
     "metadata": {},
     "output_type": "execute_result"
    }
   ],
   "source": [
    "def f(x):\n",
    "    return np.sqrt((x[0] - 3)**2 + (x[1] - 2)**2)\n",
    "\n",
    "def constraint(x):\n",
    "    return np.atleast_1d(1.5 - np.sum(np.abs(x)))\n",
    "\n",
    "optimize.fmin_slsqp(f, np.array([0, 0]), ieqcons=[constraint, ])\n"
   ]
  },
  {
   "cell_type": "code",
   "execution_count": null,
   "metadata": {},
   "outputs": [],
   "source": []
  }
 ],
 "metadata": {
  "kernelspec": {
   "display_name": "Python 3",
   "language": "python",
   "name": "python3"
  },
  "language_info": {
   "codemirror_mode": {
    "name": "ipython",
    "version": 3
   },
   "file_extension": ".py",
   "mimetype": "text/x-python",
   "name": "python",
   "nbconvert_exporter": "python",
   "pygments_lexer": "ipython3",
   "version": "3.6.3"
  }
 },
 "nbformat": 4,
 "nbformat_minor": 2
}
